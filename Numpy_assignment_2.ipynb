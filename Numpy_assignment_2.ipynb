{
  "nbformat": 4,
  "nbformat_minor": 0,
  "metadata": {
    "colab": {
      "provenance": [],
      "authorship_tag": "ABX9TyO9GR21HyHm+dtZHvFE/4SV",
      "include_colab_link": true
    },
    "kernelspec": {
      "name": "python3",
      "display_name": "Python 3"
    },
    "language_info": {
      "name": "python"
    }
  },
  "cells": [
    {
      "cell_type": "markdown",
      "metadata": {
        "id": "view-in-github",
        "colab_type": "text"
      },
      "source": [
        "<a href=\"https://colab.research.google.com/github/pavani93901/Numpy_assignment-2/blob/main/Numpy_assignment_2.ipynb\" target=\"_parent\"><img src=\"https://colab.research.google.com/assets/colab-badge.svg\" alt=\"Open In Colab\"/></a>"
      ]
    },
    {
      "cell_type": "code",
      "execution_count": 1,
      "metadata": {
        "id": "_yEZIdQj8iy1"
      },
      "outputs": [],
      "source": [
        "import numpy as np\n",
        "import pandas as pd"
      ]
    },
    {
      "cell_type": "code",
      "source": [
        "cricket_df = pd.read_csv(\"/content/Indian_Cricket_Team_Dataset.csv\")\n",
        "cricket_df"
      ],
      "metadata": {
        "colab": {
          "base_uri": "https://localhost:8080/",
          "height": 423
        },
        "id": "L4AUZbd28kOF",
        "outputId": "30c0f33f-c9c8-4622-fd68-2c27bfbe3e36"
      },
      "execution_count": 3,
      "outputs": [
        {
          "output_type": "execute_result",
          "data": {
            "text/plain": [
              "     Player Name  Age  Matches Played  Batting Average  Strike Rate\n",
              "0       Player_1   26             456            27.70       188.21\n",
              "1       Player_2   23             154            24.61       139.34\n",
              "2       Player_3   32             210            36.87       182.79\n",
              "3       Player_4   34             426            51.81       178.77\n",
              "4       Player_5   30             221            49.80       162.44\n",
              "..           ...  ...             ...              ...          ...\n",
              "995   Player_996   24             279            23.46       187.80\n",
              "996   Player_997   28             344            29.47       160.55\n",
              "997   Player_998   23             126            49.30       124.71\n",
              "998   Player_999   35              16            41.93       135.59\n",
              "999  Player_1000   30             146            25.12       108.39\n",
              "\n",
              "[1000 rows x 5 columns]"
            ],
            "text/html": [
              "\n",
              "  <div id=\"df-57b57a37-ea22-41f1-9cbb-a3ffd65e13b1\" class=\"colab-df-container\">\n",
              "    <div>\n",
              "<style scoped>\n",
              "    .dataframe tbody tr th:only-of-type {\n",
              "        vertical-align: middle;\n",
              "    }\n",
              "\n",
              "    .dataframe tbody tr th {\n",
              "        vertical-align: top;\n",
              "    }\n",
              "\n",
              "    .dataframe thead th {\n",
              "        text-align: right;\n",
              "    }\n",
              "</style>\n",
              "<table border=\"1\" class=\"dataframe\">\n",
              "  <thead>\n",
              "    <tr style=\"text-align: right;\">\n",
              "      <th></th>\n",
              "      <th>Player Name</th>\n",
              "      <th>Age</th>\n",
              "      <th>Matches Played</th>\n",
              "      <th>Batting Average</th>\n",
              "      <th>Strike Rate</th>\n",
              "    </tr>\n",
              "  </thead>\n",
              "  <tbody>\n",
              "    <tr>\n",
              "      <th>0</th>\n",
              "      <td>Player_1</td>\n",
              "      <td>26</td>\n",
              "      <td>456</td>\n",
              "      <td>27.70</td>\n",
              "      <td>188.21</td>\n",
              "    </tr>\n",
              "    <tr>\n",
              "      <th>1</th>\n",
              "      <td>Player_2</td>\n",
              "      <td>23</td>\n",
              "      <td>154</td>\n",
              "      <td>24.61</td>\n",
              "      <td>139.34</td>\n",
              "    </tr>\n",
              "    <tr>\n",
              "      <th>2</th>\n",
              "      <td>Player_3</td>\n",
              "      <td>32</td>\n",
              "      <td>210</td>\n",
              "      <td>36.87</td>\n",
              "      <td>182.79</td>\n",
              "    </tr>\n",
              "    <tr>\n",
              "      <th>3</th>\n",
              "      <td>Player_4</td>\n",
              "      <td>34</td>\n",
              "      <td>426</td>\n",
              "      <td>51.81</td>\n",
              "      <td>178.77</td>\n",
              "    </tr>\n",
              "    <tr>\n",
              "      <th>4</th>\n",
              "      <td>Player_5</td>\n",
              "      <td>30</td>\n",
              "      <td>221</td>\n",
              "      <td>49.80</td>\n",
              "      <td>162.44</td>\n",
              "    </tr>\n",
              "    <tr>\n",
              "      <th>...</th>\n",
              "      <td>...</td>\n",
              "      <td>...</td>\n",
              "      <td>...</td>\n",
              "      <td>...</td>\n",
              "      <td>...</td>\n",
              "    </tr>\n",
              "    <tr>\n",
              "      <th>995</th>\n",
              "      <td>Player_996</td>\n",
              "      <td>24</td>\n",
              "      <td>279</td>\n",
              "      <td>23.46</td>\n",
              "      <td>187.80</td>\n",
              "    </tr>\n",
              "    <tr>\n",
              "      <th>996</th>\n",
              "      <td>Player_997</td>\n",
              "      <td>28</td>\n",
              "      <td>344</td>\n",
              "      <td>29.47</td>\n",
              "      <td>160.55</td>\n",
              "    </tr>\n",
              "    <tr>\n",
              "      <th>997</th>\n",
              "      <td>Player_998</td>\n",
              "      <td>23</td>\n",
              "      <td>126</td>\n",
              "      <td>49.30</td>\n",
              "      <td>124.71</td>\n",
              "    </tr>\n",
              "    <tr>\n",
              "      <th>998</th>\n",
              "      <td>Player_999</td>\n",
              "      <td>35</td>\n",
              "      <td>16</td>\n",
              "      <td>41.93</td>\n",
              "      <td>135.59</td>\n",
              "    </tr>\n",
              "    <tr>\n",
              "      <th>999</th>\n",
              "      <td>Player_1000</td>\n",
              "      <td>30</td>\n",
              "      <td>146</td>\n",
              "      <td>25.12</td>\n",
              "      <td>108.39</td>\n",
              "    </tr>\n",
              "  </tbody>\n",
              "</table>\n",
              "<p>1000 rows × 5 columns</p>\n",
              "</div>\n",
              "    <div class=\"colab-df-buttons\">\n",
              "\n",
              "  <div class=\"colab-df-container\">\n",
              "    <button class=\"colab-df-convert\" onclick=\"convertToInteractive('df-57b57a37-ea22-41f1-9cbb-a3ffd65e13b1')\"\n",
              "            title=\"Convert this dataframe to an interactive table.\"\n",
              "            style=\"display:none;\">\n",
              "\n",
              "  <svg xmlns=\"http://www.w3.org/2000/svg\" height=\"24px\" viewBox=\"0 -960 960 960\">\n",
              "    <path d=\"M120-120v-720h720v720H120Zm60-500h600v-160H180v160Zm220 220h160v-160H400v160Zm0 220h160v-160H400v160ZM180-400h160v-160H180v160Zm440 0h160v-160H620v160ZM180-180h160v-160H180v160Zm440 0h160v-160H620v160Z\"/>\n",
              "  </svg>\n",
              "    </button>\n",
              "\n",
              "  <style>\n",
              "    .colab-df-container {\n",
              "      display:flex;\n",
              "      gap: 12px;\n",
              "    }\n",
              "\n",
              "    .colab-df-convert {\n",
              "      background-color: #E8F0FE;\n",
              "      border: none;\n",
              "      border-radius: 50%;\n",
              "      cursor: pointer;\n",
              "      display: none;\n",
              "      fill: #1967D2;\n",
              "      height: 32px;\n",
              "      padding: 0 0 0 0;\n",
              "      width: 32px;\n",
              "    }\n",
              "\n",
              "    .colab-df-convert:hover {\n",
              "      background-color: #E2EBFA;\n",
              "      box-shadow: 0px 1px 2px rgba(60, 64, 67, 0.3), 0px 1px 3px 1px rgba(60, 64, 67, 0.15);\n",
              "      fill: #174EA6;\n",
              "    }\n",
              "\n",
              "    .colab-df-buttons div {\n",
              "      margin-bottom: 4px;\n",
              "    }\n",
              "\n",
              "    [theme=dark] .colab-df-convert {\n",
              "      background-color: #3B4455;\n",
              "      fill: #D2E3FC;\n",
              "    }\n",
              "\n",
              "    [theme=dark] .colab-df-convert:hover {\n",
              "      background-color: #434B5C;\n",
              "      box-shadow: 0px 1px 3px 1px rgba(0, 0, 0, 0.15);\n",
              "      filter: drop-shadow(0px 1px 2px rgba(0, 0, 0, 0.3));\n",
              "      fill: #FFFFFF;\n",
              "    }\n",
              "  </style>\n",
              "\n",
              "    <script>\n",
              "      const buttonEl =\n",
              "        document.querySelector('#df-57b57a37-ea22-41f1-9cbb-a3ffd65e13b1 button.colab-df-convert');\n",
              "      buttonEl.style.display =\n",
              "        google.colab.kernel.accessAllowed ? 'block' : 'none';\n",
              "\n",
              "      async function convertToInteractive(key) {\n",
              "        const element = document.querySelector('#df-57b57a37-ea22-41f1-9cbb-a3ffd65e13b1');\n",
              "        const dataTable =\n",
              "          await google.colab.kernel.invokeFunction('convertToInteractive',\n",
              "                                                    [key], {});\n",
              "        if (!dataTable) return;\n",
              "\n",
              "        const docLinkHtml = 'Like what you see? Visit the ' +\n",
              "          '<a target=\"_blank\" href=https://colab.research.google.com/notebooks/data_table.ipynb>data table notebook</a>'\n",
              "          + ' to learn more about interactive tables.';\n",
              "        element.innerHTML = '';\n",
              "        dataTable['output_type'] = 'display_data';\n",
              "        await google.colab.output.renderOutput(dataTable, element);\n",
              "        const docLink = document.createElement('div');\n",
              "        docLink.innerHTML = docLinkHtml;\n",
              "        element.appendChild(docLink);\n",
              "      }\n",
              "    </script>\n",
              "  </div>\n",
              "\n",
              "\n",
              "<div id=\"df-3d5e9e83-9dce-4309-bcd1-2c52e2459aba\">\n",
              "  <button class=\"colab-df-quickchart\" onclick=\"quickchart('df-3d5e9e83-9dce-4309-bcd1-2c52e2459aba')\"\n",
              "            title=\"Suggest charts\"\n",
              "            style=\"display:none;\">\n",
              "\n",
              "<svg xmlns=\"http://www.w3.org/2000/svg\" height=\"24px\"viewBox=\"0 0 24 24\"\n",
              "     width=\"24px\">\n",
              "    <g>\n",
              "        <path d=\"M19 3H5c-1.1 0-2 .9-2 2v14c0 1.1.9 2 2 2h14c1.1 0 2-.9 2-2V5c0-1.1-.9-2-2-2zM9 17H7v-7h2v7zm4 0h-2V7h2v10zm4 0h-2v-4h2v4z\"/>\n",
              "    </g>\n",
              "</svg>\n",
              "  </button>\n",
              "\n",
              "<style>\n",
              "  .colab-df-quickchart {\n",
              "      --bg-color: #E8F0FE;\n",
              "      --fill-color: #1967D2;\n",
              "      --hover-bg-color: #E2EBFA;\n",
              "      --hover-fill-color: #174EA6;\n",
              "      --disabled-fill-color: #AAA;\n",
              "      --disabled-bg-color: #DDD;\n",
              "  }\n",
              "\n",
              "  [theme=dark] .colab-df-quickchart {\n",
              "      --bg-color: #3B4455;\n",
              "      --fill-color: #D2E3FC;\n",
              "      --hover-bg-color: #434B5C;\n",
              "      --hover-fill-color: #FFFFFF;\n",
              "      --disabled-bg-color: #3B4455;\n",
              "      --disabled-fill-color: #666;\n",
              "  }\n",
              "\n",
              "  .colab-df-quickchart {\n",
              "    background-color: var(--bg-color);\n",
              "    border: none;\n",
              "    border-radius: 50%;\n",
              "    cursor: pointer;\n",
              "    display: none;\n",
              "    fill: var(--fill-color);\n",
              "    height: 32px;\n",
              "    padding: 0;\n",
              "    width: 32px;\n",
              "  }\n",
              "\n",
              "  .colab-df-quickchart:hover {\n",
              "    background-color: var(--hover-bg-color);\n",
              "    box-shadow: 0 1px 2px rgba(60, 64, 67, 0.3), 0 1px 3px 1px rgba(60, 64, 67, 0.15);\n",
              "    fill: var(--button-hover-fill-color);\n",
              "  }\n",
              "\n",
              "  .colab-df-quickchart-complete:disabled,\n",
              "  .colab-df-quickchart-complete:disabled:hover {\n",
              "    background-color: var(--disabled-bg-color);\n",
              "    fill: var(--disabled-fill-color);\n",
              "    box-shadow: none;\n",
              "  }\n",
              "\n",
              "  .colab-df-spinner {\n",
              "    border: 2px solid var(--fill-color);\n",
              "    border-color: transparent;\n",
              "    border-bottom-color: var(--fill-color);\n",
              "    animation:\n",
              "      spin 1s steps(1) infinite;\n",
              "  }\n",
              "\n",
              "  @keyframes spin {\n",
              "    0% {\n",
              "      border-color: transparent;\n",
              "      border-bottom-color: var(--fill-color);\n",
              "      border-left-color: var(--fill-color);\n",
              "    }\n",
              "    20% {\n",
              "      border-color: transparent;\n",
              "      border-left-color: var(--fill-color);\n",
              "      border-top-color: var(--fill-color);\n",
              "    }\n",
              "    30% {\n",
              "      border-color: transparent;\n",
              "      border-left-color: var(--fill-color);\n",
              "      border-top-color: var(--fill-color);\n",
              "      border-right-color: var(--fill-color);\n",
              "    }\n",
              "    40% {\n",
              "      border-color: transparent;\n",
              "      border-right-color: var(--fill-color);\n",
              "      border-top-color: var(--fill-color);\n",
              "    }\n",
              "    60% {\n",
              "      border-color: transparent;\n",
              "      border-right-color: var(--fill-color);\n",
              "    }\n",
              "    80% {\n",
              "      border-color: transparent;\n",
              "      border-right-color: var(--fill-color);\n",
              "      border-bottom-color: var(--fill-color);\n",
              "    }\n",
              "    90% {\n",
              "      border-color: transparent;\n",
              "      border-bottom-color: var(--fill-color);\n",
              "    }\n",
              "  }\n",
              "</style>\n",
              "\n",
              "  <script>\n",
              "    async function quickchart(key) {\n",
              "      const quickchartButtonEl =\n",
              "        document.querySelector('#' + key + ' button');\n",
              "      quickchartButtonEl.disabled = true;  // To prevent multiple clicks.\n",
              "      quickchartButtonEl.classList.add('colab-df-spinner');\n",
              "      try {\n",
              "        const charts = await google.colab.kernel.invokeFunction(\n",
              "            'suggestCharts', [key], {});\n",
              "      } catch (error) {\n",
              "        console.error('Error during call to suggestCharts:', error);\n",
              "      }\n",
              "      quickchartButtonEl.classList.remove('colab-df-spinner');\n",
              "      quickchartButtonEl.classList.add('colab-df-quickchart-complete');\n",
              "    }\n",
              "    (() => {\n",
              "      let quickchartButtonEl =\n",
              "        document.querySelector('#df-3d5e9e83-9dce-4309-bcd1-2c52e2459aba button');\n",
              "      quickchartButtonEl.style.display =\n",
              "        google.colab.kernel.accessAllowed ? 'block' : 'none';\n",
              "    })();\n",
              "  </script>\n",
              "</div>\n",
              "\n",
              "  <div id=\"id_9f00df12-0bb1-496d-ab40-46eb3ed6ef16\">\n",
              "    <style>\n",
              "      .colab-df-generate {\n",
              "        background-color: #E8F0FE;\n",
              "        border: none;\n",
              "        border-radius: 50%;\n",
              "        cursor: pointer;\n",
              "        display: none;\n",
              "        fill: #1967D2;\n",
              "        height: 32px;\n",
              "        padding: 0 0 0 0;\n",
              "        width: 32px;\n",
              "      }\n",
              "\n",
              "      .colab-df-generate:hover {\n",
              "        background-color: #E2EBFA;\n",
              "        box-shadow: 0px 1px 2px rgba(60, 64, 67, 0.3), 0px 1px 3px 1px rgba(60, 64, 67, 0.15);\n",
              "        fill: #174EA6;\n",
              "      }\n",
              "\n",
              "      [theme=dark] .colab-df-generate {\n",
              "        background-color: #3B4455;\n",
              "        fill: #D2E3FC;\n",
              "      }\n",
              "\n",
              "      [theme=dark] .colab-df-generate:hover {\n",
              "        background-color: #434B5C;\n",
              "        box-shadow: 0px 1px 3px 1px rgba(0, 0, 0, 0.15);\n",
              "        filter: drop-shadow(0px 1px 2px rgba(0, 0, 0, 0.3));\n",
              "        fill: #FFFFFF;\n",
              "      }\n",
              "    </style>\n",
              "    <button class=\"colab-df-generate\" onclick=\"generateWithVariable('cricket_df')\"\n",
              "            title=\"Generate code using this dataframe.\"\n",
              "            style=\"display:none;\">\n",
              "\n",
              "  <svg xmlns=\"http://www.w3.org/2000/svg\" height=\"24px\"viewBox=\"0 0 24 24\"\n",
              "       width=\"24px\">\n",
              "    <path d=\"M7,19H8.4L18.45,9,17,7.55,7,17.6ZM5,21V16.75L18.45,3.32a2,2,0,0,1,2.83,0l1.4,1.43a1.91,1.91,0,0,1,.58,1.4,1.91,1.91,0,0,1-.58,1.4L9.25,21ZM18.45,9,17,7.55Zm-12,3A5.31,5.31,0,0,0,4.9,8.1,5.31,5.31,0,0,0,1,6.5,5.31,5.31,0,0,0,4.9,4.9,5.31,5.31,0,0,0,6.5,1,5.31,5.31,0,0,0,8.1,4.9,5.31,5.31,0,0,0,12,6.5,5.46,5.46,0,0,0,6.5,12Z\"/>\n",
              "  </svg>\n",
              "    </button>\n",
              "    <script>\n",
              "      (() => {\n",
              "      const buttonEl =\n",
              "        document.querySelector('#id_9f00df12-0bb1-496d-ab40-46eb3ed6ef16 button.colab-df-generate');\n",
              "      buttonEl.style.display =\n",
              "        google.colab.kernel.accessAllowed ? 'block' : 'none';\n",
              "\n",
              "      buttonEl.onclick = () => {\n",
              "        google.colab.notebook.generateWithVariable('cricket_df');\n",
              "      }\n",
              "      })();\n",
              "    </script>\n",
              "  </div>\n",
              "\n",
              "    </div>\n",
              "  </div>\n"
            ],
            "application/vnd.google.colaboratory.intrinsic+json": {
              "type": "dataframe",
              "variable_name": "cricket_df",
              "summary": "{\n  \"name\": \"cricket_df\",\n  \"rows\": 1000,\n  \"fields\": [\n    {\n      \"column\": \"Player Name\",\n      \"properties\": {\n        \"dtype\": \"string\",\n        \"num_unique_values\": 1000,\n        \"samples\": [\n          \"Player_522\",\n          \"Player_738\",\n          \"Player_741\"\n        ],\n        \"semantic_type\": \"\",\n        \"description\": \"\"\n      }\n    },\n    {\n      \"column\": \"Age\",\n      \"properties\": {\n        \"dtype\": \"number\",\n        \"std\": 4,\n        \"min\": 20,\n        \"max\": 35,\n        \"num_unique_values\": 16,\n        \"samples\": [\n          26,\n          23,\n          27\n        ],\n        \"semantic_type\": \"\",\n        \"description\": \"\"\n      }\n    },\n    {\n      \"column\": \"Matches Played\",\n      \"properties\": {\n        \"dtype\": \"number\",\n        \"std\": 142,\n        \"min\": 10,\n        \"max\": 500,\n        \"num_unique_values\": 421,\n        \"samples\": [\n          17,\n          402,\n          65\n        ],\n        \"semantic_type\": \"\",\n        \"description\": \"\"\n      }\n    },\n    {\n      \"column\": \"Batting Average\",\n      \"properties\": {\n        \"dtype\": \"number\",\n        \"std\": 11.474820295617562,\n        \"min\": 20.01,\n        \"max\": 59.85,\n        \"num_unique_values\": 883,\n        \"samples\": [\n          20.13,\n          26.68,\n          58.39\n        ],\n        \"semantic_type\": \"\",\n        \"description\": \"\"\n      }\n    },\n    {\n      \"column\": \"Strike Rate\",\n      \"properties\": {\n        \"dtype\": \"number\",\n        \"std\": 29.122759125573694,\n        \"min\": 100.02,\n        \"max\": 199.97,\n        \"num_unique_values\": 954,\n        \"samples\": [\n          126.33,\n          199.97,\n          172.56\n        ],\n        \"semantic_type\": \"\",\n        \"description\": \"\"\n      }\n    }\n  ]\n}"
            }
          },
          "metadata": {},
          "execution_count": 3
        }
      ]
    },
    {
      "cell_type": "markdown",
      "source": [
        "#Query 1: Convert 'Age' column to a NumPy array."
      ],
      "metadata": {
        "id": "Cv_DMB_49AuO"
      }
    },
    {
      "cell_type": "code",
      "source": [
        "ages_array = np.array(cricket_df['Age'])\n",
        "print(type(ages_array))"
      ],
      "metadata": {
        "colab": {
          "base_uri": "https://localhost:8080/"
        },
        "id": "E0TO7YN08kmT",
        "outputId": "68b3a93f-5cac-41a0-87e4-8fa7456c98b1"
      },
      "execution_count": 4,
      "outputs": [
        {
          "output_type": "stream",
          "name": "stdout",
          "text": [
            "<class 'numpy.ndarray'>\n"
          ]
        }
      ]
    },
    {
      "cell_type": "markdown",
      "source": [
        "# Query 2: Find the average age of players."
      ],
      "metadata": {
        "id": "9koI3nyV9MZX"
      }
    },
    {
      "cell_type": "code",
      "source": [
        "average_age = np.mean(ages_array)\n",
        "print(average_age)"
      ],
      "metadata": {
        "colab": {
          "base_uri": "https://localhost:8080/"
        },
        "id": "spLzRDaO8k16",
        "outputId": "1776d886-54e9-4b7a-a38d-b4d2721f0804"
      },
      "execution_count": 5,
      "outputs": [
        {
          "output_type": "stream",
          "name": "stdout",
          "text": [
            "27.57\n"
          ]
        }
      ]
    },
    {
      "cell_type": "markdown",
      "source": [
        "#Query 3: Find the oldest and youngest player age."
      ],
      "metadata": {
        "id": "skwvq6Px9R7h"
      }
    },
    {
      "cell_type": "code",
      "source": [
        "oldest_age = np.max(ages_array)\n",
        "youngest_age = np.min(ages_array)\n",
        "\n",
        "print(oldest_age)\n",
        "print(youngest_age)"
      ],
      "metadata": {
        "colab": {
          "base_uri": "https://localhost:8080/"
        },
        "id": "r-VLTJ2-8lKP",
        "outputId": "e623ce07-608d-4b5d-9af1-996490be599c"
      },
      "execution_count": 6,
      "outputs": [
        {
          "output_type": "stream",
          "name": "stdout",
          "text": [
            "35\n",
            "20\n"
          ]
        }
      ]
    },
    {
      "cell_type": "markdown",
      "source": [
        "#Query 4: Count the total number of players above 30 years old."
      ],
      "metadata": {
        "id": "G3tNWiVl9c8N"
      }
    },
    {
      "cell_type": "code",
      "source": [
        "count_above_30 = np.sum(ages_array > 30)\n",
        "print(count_above_30)\n"
      ],
      "metadata": {
        "colab": {
          "base_uri": "https://localhost:8080/"
        },
        "id": "_R9gXniB8lsV",
        "outputId": "b01092a0-9197-4095-808e-4f5946dfefeb"
      },
      "execution_count": 7,
      "outputs": [
        {
          "output_type": "stream",
          "name": "stdout",
          "text": [
            "336\n"
          ]
        }
      ]
    },
    {
      "cell_type": "markdown",
      "source": [
        "# Query 5: Find the median batting average."
      ],
      "metadata": {
        "id": "kNwTYrv99lOb"
      }
    },
    {
      "cell_type": "code",
      "source": [
        "batting_avg_array = np.array(cricket_df['Batting Average'])\n",
        "median_batting_avg = np.median(batting_avg_array)\n",
        "\n",
        "print(median_batting_avg)"
      ],
      "metadata": {
        "colab": {
          "base_uri": "https://localhost:8080/"
        },
        "id": "ViVrEltx8mBe",
        "outputId": "72fd4752-97c9-42da-e7a6-6a756d98a145"
      },
      "execution_count": 8,
      "outputs": [
        {
          "output_type": "stream",
          "name": "stdout",
          "text": [
            "40.135\n"
          ]
        }
      ]
    },
    {
      "cell_type": "markdown",
      "source": [
        "# Query 6: Find the standard deviation of strike rates."
      ],
      "metadata": {
        "id": "IWvFbPI89ltt"
      }
    },
    {
      "cell_type": "code",
      "source": [
        "strike_rate_array = np.array(cricket_df['Strike Rate'])\n",
        "std_dev_strike_rate = np.std(strike_rate_array)\n",
        "\n",
        "print(std_dev_strike_rate)"
      ],
      "metadata": {
        "colab": {
          "base_uri": "https://localhost:8080/"
        },
        "id": "TbQcLbwi9mUu",
        "outputId": "912c5d52-5f80-4310-8901-ab4dd391c547"
      },
      "execution_count": 9,
      "outputs": [
        {
          "output_type": "stream",
          "name": "stdout",
          "text": [
            "29.10819410384471\n"
          ]
        }
      ]
    },
    {
      "cell_type": "markdown",
      "source": [
        "# Query 7: Find the 90th percentile of batting average."
      ],
      "metadata": {
        "id": "orAyMGdh92dC"
      }
    },
    {
      "cell_type": "code",
      "source": [
        "\n",
        "percentile_90 = np.percentile(batting_avg_array, 90)\n",
        "\n",
        "print(percentile_90)"
      ],
      "metadata": {
        "colab": {
          "base_uri": "https://localhost:8080/"
        },
        "id": "z1ygvO4p9291",
        "outputId": "5d9d908b-0a64-42f2-a5f2-4b0303bd2f44"
      },
      "execution_count": 10,
      "outputs": [
        {
          "output_type": "stream",
          "name": "stdout",
          "text": [
            "55.323\n"
          ]
        }
      ]
    },
    {
      "cell_type": "markdown",
      "source": [
        "# Query 8: Find the number of players with strike rate above 150."
      ],
      "metadata": {
        "id": "6vjnOUYn9--T"
      }
    },
    {
      "cell_type": "code",
      "source": [
        "strike_rate_array = np.array(cricket_df['Strike Rate'])\n",
        "high_strike_rate = strike_rate_array > 150\n",
        "count_high_strike = np.sum(high_strike_rate)\n",
        "print(count_high_strike)"
      ],
      "metadata": {
        "colab": {
          "base_uri": "https://localhost:8080/"
        },
        "id": "GwRz0ONl9_Qi",
        "outputId": "d15d6e7a-33f5-404d-d8f6-6b8d0a51fbc4"
      },
      "execution_count": 14,
      "outputs": [
        {
          "output_type": "stream",
          "name": "stdout",
          "text": [
            "513\n"
          ]
        }
      ]
    },
    {
      "cell_type": "markdown",
      "source": [
        "# Query 9: Reshape the first 20 batting averages into a 4x5 matrix."
      ],
      "metadata": {
        "id": "EAd56CO--wi7"
      }
    },
    {
      "cell_type": "code",
      "source": [
        "reshaped_avg = batting_avg_array[:20].reshape(4,5)\n",
        "print(reshaped_avg)"
      ],
      "metadata": {
        "id": "PnpUWYaH-rHT",
        "outputId": "43d36b46-8248-482d-d8b1-73c1bb8e57d3",
        "colab": {
          "base_uri": "https://localhost:8080/"
        }
      },
      "execution_count": 15,
      "outputs": [
        {
          "output_type": "stream",
          "name": "stdout",
          "text": [
            "[[27.7  24.61 36.87 51.81 49.8 ]\n",
            " [22.2  38.21 40.9  45.78 46.01]\n",
            " [34.59 42.43 39.24 55.4  41.21]\n",
            " [37.64 36.18 42.9  52.16 41.54]]\n"
          ]
        }
      ]
    },
    {
      "cell_type": "markdown",
      "source": [
        "# Query 10: Compute row-wise sum of reshaped matrix."
      ],
      "metadata": {
        "id": "BBDAh7ig-30z"
      }
    },
    {
      "cell_type": "code",
      "source": [
        "\n",
        "row_wise_sum = np.sum(reshaped_avg, axis=1)\n",
        "print(row_wise_sum)"
      ],
      "metadata": {
        "id": "HeBN6Qxg-4Xb",
        "outputId": "ebc7cdeb-9a73-48cd-f7bb-1b53ca754800",
        "colab": {
          "base_uri": "https://localhost:8080/"
        }
      },
      "execution_count": 16,
      "outputs": [
        {
          "output_type": "stream",
          "name": "stdout",
          "text": [
            "[190.79 193.1  212.87 210.42]\n"
          ]
        }
      ]
    },
    {
      "cell_type": "markdown",
      "source": [
        "# Query 11: Compute column-wise mean of reshaped matrix."
      ],
      "metadata": {
        "id": "XOZTH6U6_P6c"
      }
    },
    {
      "cell_type": "code",
      "source": [
        "col_wise_mean = np.mean(reshaped_avg, axis=0)\n",
        "print(col_wise_mean)"
      ],
      "metadata": {
        "id": "A1wQSros_Qcj",
        "outputId": "0c204f95-9d75-4c88-ff3d-ff2e5a2a7a93",
        "colab": {
          "base_uri": "https://localhost:8080/"
        }
      },
      "execution_count": 17,
      "outputs": [
        {
          "output_type": "stream",
          "name": "stdout",
          "text": [
            "[30.5325 35.3575 39.9775 51.2875 44.64  ]\n"
          ]
        }
      ]
    },
    {
      "cell_type": "markdown",
      "source": [
        "# Query 12: Transpose the reshaped matrix."
      ],
      "metadata": {
        "id": "4UYeHJH0_bEQ"
      }
    },
    {
      "cell_type": "code",
      "source": [
        "transposed_avg = reshaped_avg.T\n",
        "print(transposed_avg)\n"
      ],
      "metadata": {
        "id": "vkzttnoN_bgo"
      },
      "execution_count": null,
      "outputs": []
    },
    {
      "cell_type": "markdown",
      "source": [
        "# Query 13: Find the variance of batting average."
      ],
      "metadata": {
        "id": "4HoHsT83_iio"
      }
    },
    {
      "cell_type": "code",
      "source": [
        "variance_batting_avg = np.var(batting_avg_array)\n",
        "\n",
        "print(variance_batting_avg)"
      ],
      "metadata": {
        "id": "ZDTVfvo5_i5h",
        "outputId": "661a5f2b-a7b5-482f-9434-039213739c27",
        "colab": {
          "base_uri": "https://localhost:8080/"
        }
      },
      "execution_count": 18,
      "outputs": [
        {
          "output_type": "stream",
          "name": "stdout",
          "text": [
            "131.5398293159\n"
          ]
        }
      ]
    },
    {
      "cell_type": "markdown",
      "source": [
        "# Query 14: Stack age and matches played horizontally."
      ],
      "metadata": {
        "id": "CJ7raIBE_pmt"
      }
    },
    {
      "cell_type": "code",
      "source": [
        "matches_array = np.array(cricket_df['Matches Played']) # Define matches_array here by extracting it from the DataFrame\n",
        "stacked_array = np.hstack((ages_array.reshape(-1,1), matches_array.reshape(-1,1)))\n",
        "\n",
        "print(stacked_array)"
      ],
      "metadata": {
        "id": "0u8hn6z__p-p",
        "outputId": "087a25a2-2130-4560-d061-4007245bb809",
        "colab": {
          "base_uri": "https://localhost:8080/"
        }
      },
      "execution_count": 20,
      "outputs": [
        {
          "output_type": "stream",
          "name": "stdout",
          "text": [
            "[[ 26 456]\n",
            " [ 23 154]\n",
            " [ 32 210]\n",
            " ...\n",
            " [ 23 126]\n",
            " [ 35  16]\n",
            " [ 30 146]]\n"
          ]
        }
      ]
    },
    {
      "cell_type": "markdown",
      "source": [
        "# Query 15: Split the batting average array into 100 equal parts."
      ],
      "metadata": {
        "id": "Z1HFR4-C_8YA"
      }
    },
    {
      "cell_type": "code",
      "source": [
        "split_avg = np.array_split(batting_avg_array, 100)\n",
        "print(split_avg)"
      ],
      "metadata": {
        "id": "uuXd4Zh6_80o",
        "outputId": "8e5b5292-a595-4e62-845a-9941ca95c729",
        "colab": {
          "base_uri": "https://localhost:8080/"
        }
      },
      "execution_count": 21,
      "outputs": [
        {
          "output_type": "stream",
          "name": "stdout",
          "text": [
            "[array([27.7 , 24.61, 36.87, 51.81, 49.8 , 22.2 , 38.21, 40.9 , 45.78,\n",
            "       46.01]), array([34.59, 42.43, 39.24, 55.4 , 41.21, 37.64, 36.18, 42.9 , 52.16,\n",
            "       41.54]), array([46.47, 49.51, 40.81, 37.07, 55.07, 36.7 , 38.48, 59.61, 20.01,\n",
            "       27.42]), array([35.36, 57.3 , 22.8 , 20.38, 22.11, 23.54, 21.5 , 39.19, 43.23,\n",
            "       30.87]), array([35.93, 23.67, 33.45, 40.9 , 49.29, 20.13, 38.69, 31.88, 54.11,\n",
            "       48.62]), array([43.56, 31.09, 56.41, 21.8 , 24.38, 35.67, 24.98, 58.26, 51.92,\n",
            "       30.36]), array([43.54, 59.29, 55.37, 44.03, 56.15, 59.57, 49.73, 22.6 , 36.06,\n",
            "       53.51]), array([29.22, 53.23, 24.81, 21.88, 35.36, 21.47, 58.29, 53.05, 52.03,\n",
            "       45.19]), array([28.65, 40.73, 43.89, 41.  , 30.41, 40.61, 39.65, 59.85, 55.9 ,\n",
            "       38.54]), array([44.92, 49.91, 21.39, 55.8 , 54.41, 38.3 , 35.65, 30.92, 39.07,\n",
            "       21.78]), array([54.09, 21.42, 33.16, 57.26, 49.41, 31.26, 30.11, 20.2 , 47.83,\n",
            "       21.95]), array([41.3 , 58.48, 24.38, 55.78, 59.66, 22.46, 55.32, 40.64, 56.26,\n",
            "       42.85]), array([46.48, 41.75, 54.58, 49.36, 40.85, 54.73, 29.81, 26.29, 26.42,\n",
            "       33.36]), array([29.55, 57.2 , 24.23, 47.96, 27.57, 55.27, 58.45, 38.62, 55.16,\n",
            "       20.21]), array([52.8 , 29.15, 56.35, 20.04, 42.25, 50.27, 30.35, 27.73, 23.36,\n",
            "       33.06]), array([42.39, 24.63, 35.07, 20.36, 52.75, 25.14, 31.33, 20.74, 37.29,\n",
            "       53.6 ]), array([35.69, 27.18, 50.15, 51.55, 26.95, 50.83, 57.89, 26.66, 50.84,\n",
            "       48.34]), array([38.94, 22.32, 22.99, 54.1 , 59.61, 47.04, 37.84, 45.9 , 43.78,\n",
            "       35.34]), array([22.63, 52.86, 34.87, 52.75, 30.1 , 20.04, 26.36, 38.74, 57.77,\n",
            "       24.09]), array([54.17, 41.08, 53.04, 31.93, 53.6 , 50.91, 29.2 , 25.25, 54.72,\n",
            "       58.53]), array([21.25, 49.25, 56.38, 54.29, 58.58, 50.4 , 37.69, 32.48, 32.83,\n",
            "       48.98]), array([49.83, 28.01, 54.72, 48.6 , 42.51, 38.86, 41.73, 26.37, 28.15,\n",
            "       23.65]), array([26.15, 38.15, 41.21, 20.71, 51.87, 31.77, 56.47, 58.7 , 27.42,\n",
            "       38.48]), array([20.05, 43.93, 44.29, 29.9 , 42.34, 29.02, 26.43, 46.06, 33.04,\n",
            "       43.61]), array([37.33, 59.37, 25.98, 38.58, 47.22, 35.82, 58.99, 48.88, 46.28,\n",
            "       50.28]), array([58.11, 56.31, 48.97, 49.97, 25.84, 24.11, 42.84, 20.73, 39.29,\n",
            "       28.41]), array([33.84, 51.03, 57.65, 22.9 , 41.37, 55.3 , 23.3 , 52.98, 34.31,\n",
            "       32.88]), array([59.1 , 28.03, 47.73, 52.86, 21.65, 46.82, 58.06, 24.97, 55.85,\n",
            "       43.79]), array([44.66, 44.52, 31.95, 57.41, 57.89, 45.01, 51.34, 44.49, 39.38,\n",
            "       46.43]), array([42.12, 43.9 , 51.35, 39.24, 21.63, 26.56, 37.54, 48.99, 43.73,\n",
            "       46.01]), array([39.17, 44.63, 33.16, 38.81, 49.77, 54.87, 37.35, 21.75, 26.47,\n",
            "       20.83]), array([46.13, 33.29, 41.7 , 39.73, 23.26, 36.13, 28.82, 36.74, 28.14,\n",
            "       53.62]), array([26.97, 58.43, 36.64, 53.85, 45.15, 49.41, 50.71, 40.19, 41.73,\n",
            "       40.56]), array([43.52, 21.18, 35.82, 44.25, 43.91, 51.72, 46.2 , 59.69, 31.35,\n",
            "       34.37]), array([35.35, 38.63, 53.44, 29.43, 51.04, 36.21, 44.07, 45.3 , 34.91,\n",
            "       40.5 ]), array([36.52, 22.77, 37.49, 23.9 , 36.2 , 43.72, 43.18, 46.5 , 23.81,\n",
            "       46.08]), array([32.49, 35.96, 54.32, 20.36, 43.54, 43.95, 35.87, 29.48, 29.39,\n",
            "       55.35]), array([37.68, 33.24, 37.95, 46.78, 25.83, 37.98, 43.52, 57.94, 30.1 ,\n",
            "       34.37]), array([35.17, 44.22, 34.27, 41.34, 51.27, 48.22, 37.85, 54.57, 42.33,\n",
            "       41.6 ]), array([21.37, 59.47, 24.92, 29.25, 22.07, 45.6 , 28.99, 27.2 , 23.54,\n",
            "       24.13]), array([43.39, 47.53, 35.9 , 39.2 , 47.44, 20.7 , 32.93, 58.92, 43.2 ,\n",
            "       30.17]), array([40.87, 33.71, 41.29, 25.03, 25.31, 25.74, 57.59, 49.32, 26.5 ,\n",
            "       27.53]), array([49.23, 26.25, 29.38, 58.53, 30.21, 46.47, 59.15, 34.97, 20.7 ,\n",
            "       29.77]), array([53.24, 54.58, 50.74, 24.52, 51.82, 56.75, 44.02, 57.64, 53.07,\n",
            "       46.68]), array([43.09, 33.94, 26.37, 44.2 , 32.72, 54.66, 59.73, 50.1 , 23.62,\n",
            "       31.55]), array([24.36, 46.02, 50.61, 57.03, 37.53, 56.06, 55.12, 32.69, 54.76,\n",
            "       35.03]), array([31.87, 45.96, 33.14, 45.21, 44.39, 42.54, 35.22, 41.94, 43.86,\n",
            "       41.83]), array([37.78, 20.59, 43.48, 26.74, 45.7 , 50.37, 40.02, 41.69, 58.06,\n",
            "       53.89]), array([56.57, 52.55, 24.36, 25.96, 41.06, 29.84, 39.07, 35.77, 41.98,\n",
            "       49.88]), array([48.62, 40.85, 52.9 , 37.23, 55.87, 22.85, 58.19, 46.19, 35.2 ,\n",
            "       27.89]), array([39.17, 27.78, 26.65, 44.69, 40.92, 46.8 , 57.18, 41.29, 43.24,\n",
            "       23.59]), array([48.71, 36.  , 59.07, 52.93, 40.9 , 24.93, 54.38, 51.99, 27.38,\n",
            "       31.81]), array([51.74, 27.41, 56.71, 36.98, 23.48, 52.63, 34.94, 41.06, 24.49,\n",
            "       20.1 ]), array([45.52, 40.61, 43.74, 51.75, 45.86, 26.99, 34.43, 56.24, 50.8 ,\n",
            "       42.27]), array([30.23, 32.08, 49.28, 54.05, 46.86, 52.38, 50.67, 25.99, 36.96,\n",
            "       26.12]), array([29.41, 54.77, 38.92, 41.41, 27.14, 32.49, 29.21, 28.25, 45.52,\n",
            "       30.28]), array([45.28, 22.34, 25.67, 30.98, 43.88, 47.03, 37.71, 37.83, 48.98,\n",
            "       20.63]), array([33.64, 52.75, 44.13, 33.49, 56.22, 50.9 , 30.6 , 45.81, 43.83,\n",
            "       36.05]), array([34.68, 33.74, 44.69, 37.7 , 53.27, 46.78, 22.8 , 45.61, 30.85,\n",
            "       43.71]), array([47.21, 29.23, 38.27, 27.61, 22.09, 35.14, 34.52, 59.82, 37.85,\n",
            "       33.34]), array([43.22, 23.55, 58.47, 45.4 , 50.19, 26.82, 36.38, 36.91, 52.87,\n",
            "       20.05]), array([32.03, 59.25, 39.  , 35.3 , 24.79, 58.97, 20.8 , 49.49, 50.74,\n",
            "       29.75]), array([46.86, 23.72, 30.28, 51.52, 54.59, 44.34, 40.27, 26.37, 22.52,\n",
            "       24.71]), array([29.09, 33.67, 35.24, 33.85, 29.56, 40.39, 53.01, 31.19, 57.7 ,\n",
            "       54.93]), array([26.47, 51.45, 42.98, 42.66, 35.64, 40.05, 35.89, 41.59, 45.12,\n",
            "       46.97]), array([41.3 , 48.86, 25.65, 28.48, 52.75, 32.9 , 20.92, 26.15, 28.94,\n",
            "       58.29]), array([42.92, 57.31, 43.01, 39.17, 32.55, 44.25, 25.57, 55.93, 53.17,\n",
            "       32.7 ]), array([58.11, 53.01, 46.65, 24.87, 39.13, 40.24, 29.3 , 23.2 , 51.07,\n",
            "       24.88]), array([43.77, 57.46, 55.04, 31.11, 54.06, 20.01, 20.71, 44.1 , 34.59,\n",
            "       35.46]), array([42.58, 27.67, 28.47, 39.38, 50.17, 44.78, 31.89, 37.21, 26.83,\n",
            "       22.99]), array([51.31, 30.62, 27.11, 47.66, 44.72, 45.33, 29.16, 29.31, 28.83,\n",
            "       26.95]), array([46.23, 53.92, 48.97, 51.68, 36.19, 46.16, 34.17, 41.02, 39.27,\n",
            "       27.08]), array([35.48, 58.55, 29.94, 25.35, 36.74, 51.61, 43.29, 47.24, 27.59,\n",
            "       44.76]), array([32.94, 53.37, 45.17, 27.95, 22.58, 21.71, 34.86, 30.63, 45.84,\n",
            "       39.97]), array([30.64, 25.97, 25.09, 54.59, 29.74, 46.07, 52.43, 44.56, 54.38,\n",
            "       35.7 ]), array([58.25, 25.33, 24.09, 46.35, 57.71, 52.36, 23.06, 31.17, 57.21,\n",
            "       30.12]), array([51.25, 53.01, 39.82, 35.45, 38.  , 29.08, 55.58, 38.02, 55.3 ,\n",
            "       24.23]), array([59.53, 37.73, 21.91, 21.52, 49.85, 46.36, 52.09, 24.21, 21.42,\n",
            "       40.34]), array([35.5 , 38.48, 59.66, 58.83, 57.69, 51.35, 34.19, 36.49, 41.98,\n",
            "       53.22]), array([22.75, 36.97, 23.3 , 40.59, 55.96, 51.3 , 29.11, 59.04, 46.69,\n",
            "       20.42]), array([30.22, 30.43, 22.77, 58.39, 39.13, 55.83, 32.89, 25.01, 38.97,\n",
            "       24.56]), array([39.44, 56.81, 40.83, 44.66, 26.27, 21.75, 24.43, 43.94, 23.8 ,\n",
            "       35.04]), array([42.  , 35.55, 26.55, 30.95, 57.13, 47.04, 39.84, 20.51, 59.7 ,\n",
            "       46.86]), array([32.68, 55.17, 30.34, 41.76, 45.44, 28.84, 59.14, 49.93, 42.31,\n",
            "       27.22]), array([22.15, 32.8 , 50.13, 30.77, 41.58, 49.12, 24.32, 47.41, 23.67,\n",
            "       58.61]), array([39.54, 26.03, 33.7 , 36.54, 50.33, 49.74, 44.48, 24.24, 26.06,\n",
            "       23.75]), array([43.09, 55.09, 37.35, 26.43, 42.32, 52.47, 49.67, 55.26, 31.12,\n",
            "       27.76]), array([55.19, 46.3 , 32.44, 49.69, 52.6 , 44.6 , 47.52, 35.01, 41.55,\n",
            "       40.97]), array([53.92, 53.6 , 53.31, 20.44, 49.98, 50.35, 47.14, 50.25, 53.68,\n",
            "       38.81]), array([40.08, 24.99, 35.42, 45.73, 51.22, 28.69, 25.51, 46.52, 20.08,\n",
            "       27.13]), array([21.16, 26.68, 27.25, 35.51, 36.09, 54.97, 40.4 , 48.94, 24.17,\n",
            "       29.02]), array([48.12, 22.11, 39.46, 43.97, 44.09, 20.92, 32.88, 45.46, 25.96,\n",
            "       47.82]), array([49.84, 59.28, 28.39, 53.01, 40.81, 34.94, 24.9 , 49.42, 29.43,\n",
            "       34.86]), array([22.5 , 52.05, 50.66, 49.34, 31.98, 26.94, 45.5 , 39.85, 27.13,\n",
            "       47.44]), array([59.65, 49.89, 49.6 , 58.01, 28.12, 42.62, 59.19, 26.61, 48.01,\n",
            "       43.43]), array([43.46, 47.91, 57.18, 51.3 , 22.25, 54.11, 29.02, 35.08, 38.47,\n",
            "       39.24]), array([37.41, 57.49, 48.24, 45.25, 21.99, 56.16, 56.38, 51.21, 20.28,\n",
            "       22.29]), array([29.01, 25.25, 35.95, 56.9 , 38.88, 20.54, 31.31, 21.78, 21.45,\n",
            "       31.03]), array([31.02, 51.49, 58.99, 34.85, 37.16, 53.79, 30.73, 26.26, 54.12,\n",
            "       21.86]), array([44.79, 42.48, 33.84, 32.61, 50.87, 23.46, 29.47, 49.3 , 41.93,\n",
            "       25.12])]\n"
          ]
        }
      ]
    }
  ]
}